{
 "cells": [
  {
   "cell_type": "markdown",
   "metadata": {},
   "source": [
    "## Sqrt\n",
    "\n",
    "ニュートン法を用いる。\n",
    "\n",
    "$$\n",
    "f(x_n)=f(x_n)'(x_n-x_{n+1})\n",
    "$$\n",
    "\n",
    "から\n",
    "\n",
    "$$\n",
    "x_{n+1}=x_n-{f(x_n)\\over f(x_n)'}\n",
    "$$\n",
    "\n",
    "を用いて\n",
    "\n",
    "$$\n",
    "f(x)=x^2-n\n",
    "$$\n",
    "\n",
    "を解くことを考える。\n",
    "\n",
    "$$\n",
    "f(x)'=2x\n",
    "$$\n",
    "\n",
    "漸化式を計算して\n",
    "\n",
    "$$\n",
    "\\begin{align*}\n",
    "x_{n+1}&=x_n-{x_n^2-n\\over 2x_n}\\\\\n",
    "&=x_n-{1\\over 2}(x_n-{n\\over x_n})\\\\\n",
    "&={1\\over 2}(x_n+{n\\over x_n})\n",
    "\\end{align*}\n",
    "$$\n",
    "\n",
    "次の項との差が１以下となるまで繰り返す。"
   ]
  }
 ],
 "metadata": {
  "language_info": {
   "name": "python"
  }
 },
 "nbformat": 4,
 "nbformat_minor": 2
}
